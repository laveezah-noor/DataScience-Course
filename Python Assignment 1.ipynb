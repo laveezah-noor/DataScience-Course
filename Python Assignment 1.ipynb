{
 "cells": [
  {
   "cell_type": "markdown",
   "id": "166ba487",
   "metadata": {},
   "source": [
    "# Assignment #1"
   ]
  },
  {
   "cell_type": "markdown",
   "id": "b926693b",
   "metadata": {},
   "source": [
    "Q1. Write a Python program to print the following string."
   ]
  },
  {
   "cell_type": "code",
   "execution_count": 2,
   "id": "36aff435",
   "metadata": {},
   "outputs": [
    {
     "name": "stdout",
     "output_type": "stream",
     "text": [
      "Twinkle, twinkle, little star\n",
      "\tHow I wonder what you are\n",
      "\t\tUp above the world so high\n",
      "\t\tLike a diamond in the sky\n",
      "Twinkle, twinkle, little star\n",
      "\tHow I wonder what you are\n"
     ]
    }
   ],
   "source": [
    "print(\"Twinkle, twinkle, little star\")\n",
    "print(\"\\tHow I wonder what you are\")\n",
    "print(\"\\t\\tUp above the world so high\")\n",
    "print(\"\\t\\tLike a diamond in the sky\")\n",
    "print(\"Twinkle, twinkle, little star\")\n",
    "print(\"\\tHow I wonder what you are\")"
   ]
  },
  {
   "cell_type": "markdown",
   "id": "912cf866",
   "metadata": {},
   "source": [
    "Q2. Write a Python program to get the python version you are using."
   ]
  },
  {
   "cell_type": "code",
   "execution_count": 20,
   "id": "3eee0e7f",
   "metadata": {},
   "outputs": [
    {
     "name": "stdout",
     "output_type": "stream",
     "text": [
      "3.9.7 (default, Sep 16 2021, 16:59:28) [MSC v.1916 64 bit (AMD64)]\n"
     ]
    }
   ],
   "source": [
    "import sys\n",
    "print(sys.version)"
   ]
  },
  {
   "cell_type": "markdown",
   "id": "b4d5698a",
   "metadata": {},
   "source": [
    "Q3. Write a Python program to display current date and time."
   ]
  },
  {
   "cell_type": "code",
   "execution_count": 7,
   "id": "7ead3902",
   "metadata": {},
   "outputs": [
    {
     "name": "stdout",
     "output_type": "stream",
     "text": [
      "2021-12-30 02:46:28.532237\n"
     ]
    }
   ],
   "source": [
    "from datetime import datetime\n",
    "print(datetime.now())"
   ]
  },
  {
   "cell_type": "markdown",
   "id": "4e6ab40e",
   "metadata": {},
   "source": [
    "Q4. Write a Python program which accepts the radius of a circle from the user and compute the area of the circle."
   ]
  },
  {
   "cell_type": "code",
   "execution_count": 9,
   "id": "11c9055c",
   "metadata": {},
   "outputs": [
    {
     "name": "stdout",
     "output_type": "stream",
     "text": [
      "Enter the radius of circle: 5\n",
      "The Area of the circle:  78.53981633974483\n"
     ]
    }
   ],
   "source": [
    "import math\n",
    "radius = float(input(\"Enter the radius of circle: \"))\n",
    "area = math.pi * (radius**2)\n",
    "print(\"The Area of the circle: \", area)"
   ]
  },
  {
   "cell_type": "markdown",
   "id": "03e7c31c",
   "metadata": {},
   "source": [
    "Q5. Write a Python program which accepts user's first and last name and print them in the reverse order with a space between them."
   ]
  },
  {
   "cell_type": "code",
   "execution_count": 3,
   "id": "baa8b751",
   "metadata": {},
   "outputs": [
    {
     "name": "stdout",
     "output_type": "stream",
     "text": [
      "Enter your first name: Abrish\n",
      "Enter your last name: Noor\n",
      "Noor Abrish\n"
     ]
    }
   ],
   "source": [
    "first_name = input(\"Enter your First name: \")\n",
    "last_name = input(\"Enter your Last name: \")\n",
    "print(f'{last_name} {first_name}')"
   ]
  },
  {
   "cell_type": "markdown",
   "id": "814a5aab",
   "metadata": {},
   "source": [
    "Q6. Write a Python program which takes two inputs from user and print their additon."
   ]
  },
  {
   "cell_type": "code",
   "execution_count": 14,
   "id": "c33b8cbc",
   "metadata": {},
   "outputs": [
    {
     "name": "stdout",
     "output_type": "stream",
     "text": [
      "Input First One: 5\n",
      "Input Last One: 7\n",
      "12\n"
     ]
    }
   ],
   "source": [
    "first_input = int(input(\"Input First One: \"))\n",
    "last_input = int(input(\"Input Last One: \"))\n",
    "print(first_input+last_input)"
   ]
  }
 ],
 "metadata": {
  "kernelspec": {
   "display_name": "Python 3 (ipykernel)",
   "language": "python",
   "name": "python3"
  },
  "language_info": {
   "codemirror_mode": {
    "name": "ipython",
    "version": 3
   },
   "file_extension": ".py",
   "mimetype": "text/x-python",
   "name": "python",
   "nbconvert_exporter": "python",
   "pygments_lexer": "ipython3",
   "version": "3.10.1"
  }
 },
 "nbformat": 4,
 "nbformat_minor": 5
}
